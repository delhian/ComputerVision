{
 "cells": [
  {
   "cell_type": "code",
   "execution_count": 2,
   "metadata": {},
   "outputs": [
    {
     "name": "stdout",
     "output_type": "stream",
     "text": [
      "Collecting gym\n",
      "  Downloading gym-0.18.3.tar.gz (1.6 MB)\n",
      "\u001b[K     |████████████████████████████████| 1.6 MB 2.9 MB/s eta 0:00:01\n",
      "\u001b[?25hRequirement already satisfied: scipy in /opt/anaconda3/lib/python3.7/site-packages (from gym) (1.6.2)\n",
      "Requirement already satisfied: numpy>=1.10.4 in /opt/anaconda3/lib/python3.7/site-packages (from gym) (1.19.2)\n",
      "Collecting pyglet<=1.5.15,>=1.4.0\n",
      "  Downloading pyglet-1.5.15-py3-none-any.whl (1.1 MB)\n",
      "\u001b[K     |████████████████████████████████| 1.1 MB 7.7 MB/s eta 0:00:01\n",
      "\u001b[?25hRequirement already satisfied: Pillow<=8.2.0 in /opt/anaconda3/lib/python3.7/site-packages (from gym) (8.2.0)\n",
      "Collecting cloudpickle<1.7.0,>=1.2.0\n",
      "  Downloading cloudpickle-1.6.0-py3-none-any.whl (23 kB)\n",
      "Building wheels for collected packages: gym\n",
      "  Building wheel for gym (setup.py) ... \u001b[?25ldone\n",
      "\u001b[?25h  Created wheel for gym: filename=gym-0.18.3-py3-none-any.whl size=1657514 sha256=28251dd18f6eb2ac9f69271d86f8985731e1fed2aa23522750e629239ffcec37\n",
      "  Stored in directory: /Users/u14506394/Library/Caches/pip/wheels/1a/ec/6d/705d53925f481ab70fd48ec7728558745eeae14dfda3b49c99\n",
      "Successfully built gym\n",
      "Installing collected packages: pyglet, cloudpickle, gym\n",
      "Successfully installed cloudpickle-1.6.0 gym-0.18.3 pyglet-1.5.15\n",
      "Note: you may need to restart the kernel to use updated packages.\n"
     ]
    }
   ],
   "source": [
    "pip install gym"
   ]
  },
  {
   "cell_type": "code",
   "execution_count": 3,
   "metadata": {
    "colab": {},
    "colab_type": "code",
    "id": "1Wopj84dNSlC"
   },
   "outputs": [],
   "source": [
    "import numpy as np\n",
    "\n",
    "import gym\n",
    "\n",
    "import matplotlib.pyplot as plt\n",
    "%matplotlib inline"
   ]
  },
  {
   "cell_type": "markdown",
   "metadata": {
    "colab_type": "text",
    "id": "ypAHGtYVNSlE"
   },
   "source": [
    "## Load GYM environment"
   ]
  },
  {
   "cell_type": "code",
   "execution_count": 6,
   "metadata": {
    "colab": {
     "base_uri": "https://localhost:8080/",
     "height": 51
    },
    "colab_type": "code",
    "id": "4-ziq8FUNSlF",
    "outputId": "bcb1bbbd-3a04-407f-9db6-2e06253214b1",
    "scrolled": false
   },
   "outputs": [
    {
     "name": "stdout",
     "output_type": "stream",
     "text": [
      "States: 16\n",
      "Actions: 4\n"
     ]
    }
   ],
   "source": [
    "env = gym.make('FrozenLake-v0', is_slippery=False)\n",
    "\n",
    "NUM_STATES = env.observation_space.n\n",
    "NUM_ACTIONS = env.action_space.n\n",
    "\n",
    "print('States: {}'.format(NUM_STATES))\n",
    "print('Actions: {}'.format(NUM_ACTIONS))"
   ]
  },
  {
   "cell_type": "markdown",
   "metadata": {
    "colab_type": "text",
    "id": "jEuR1P4NNSlJ"
   },
   "source": [
    "## Settings"
   ]
  },
  {
   "cell_type": "code",
   "execution_count": 40,
   "metadata": {
    "colab": {},
    "colab_type": "code",
    "id": "9u9zQtopNSlK"
   },
   "outputs": [],
   "source": [
    "lr = 0.8\n",
    "gamma = 0.95\n",
    "\n",
    "NUM_EPISODES = 3000\n",
    "MAX_STEPS = 100\n",
    "REWARD_AVERAGE_WINDOW = 20"
   ]
  },
  {
   "cell_type": "markdown",
   "metadata": {
    "colab_type": "text",
    "id": "NoPj7z19NSlM"
   },
   "source": [
    "##  Q-Table initialization"
   ]
  },
  {
   "cell_type": "code",
   "execution_count": 41,
   "metadata": {
    "colab": {},
    "colab_type": "code",
    "id": "51l4k_CRNSlM"
   },
   "outputs": [],
   "source": [
    "Q = np.zeros([NUM_STATES, NUM_ACTIONS])\n",
    "\n",
    "pathLenList = []\n",
    "totalRewardList = []\n",
    "totalRewardAverageList = []\n",
    "pathLenAverageList = []"
   ]
  },
  {
   "cell_type": "markdown",
   "metadata": {
    "colab_type": "text",
    "id": "EQQmZXgpNSlP"
   },
   "source": [
    "##  Q-Table learning"
   ]
  },
  {
   "cell_type": "code",
   "execution_count": 47,
   "metadata": {
    "colab": {
     "base_uri": "https://localhost:8080/",
     "height": 514
    },
    "colab_type": "code",
    "id": "FbKuTb-NNSlP",
    "outputId": "9486588e-2785-44a8-8e3e-130ec4655a54",
    "scrolled": false
   },
   "outputs": [
    {
     "name": "stdout",
     "output_type": "stream",
     "text": [
      "Episode 100: average total reward = 0.0 pathLen = 5.8\n",
      "Episode 200: average total reward = 0.05 pathLen = 8.25\n",
      "Episode 300: average total reward = 0.0 pathLen = 7.75\n",
      "Episode 400: average total reward = 0.05 pathLen = 6.5\n",
      "Episode 500: average total reward = 0.15 pathLen = 8.3\n",
      "Episode 600: average total reward = 0.0 pathLen = 8.35\n",
      "Episode 700: average total reward = 0.15 pathLen = 6.7\n",
      "Episode 800: average total reward = 0.25 pathLen = 7.65\n",
      "Episode 900: average total reward = 0.2 pathLen = 6.95\n",
      "Episode 1000: average total reward = 0.3 pathLen = 7.7\n",
      "Episode 1100: average total reward = 0.15 pathLen = 6.2\n",
      "Episode 1200: average total reward = 0.0 pathLen = 6.65\n",
      "Episode 1300: average total reward = 0.35 pathLen = 6.15\n",
      "Episode 1400: average total reward = 0.3 pathLen = 5.9\n",
      "Episode 1500: average total reward = 0.45 pathLen = 6.35\n",
      "Episode 1600: average total reward = 0.25 pathLen = 7.25\n",
      "Episode 1700: average total reward = 0.45 pathLen = 7.0\n",
      "Episode 1800: average total reward = 0.65 pathLen = 7.3\n",
      "Episode 1900: average total reward = 0.3 pathLen = 5.7\n",
      "Episode 2000: average total reward = 0.6 pathLen = 6.85\n",
      "Episode 2100: average total reward = 0.85 pathLen = 7.9\n",
      "Episode 2200: average total reward = 0.9 pathLen = 7.55\n",
      "Episode 2300: average total reward = 0.7 pathLen = 6.05\n",
      "Episode 2400: average total reward = 0.7 pathLen = 5.85\n",
      "Episode 2500: average total reward = 0.8 pathLen = 6.3\n",
      "Episode 2600: average total reward = 0.85 pathLen = 6.35\n",
      "Episode 2700: average total reward = 0.9 pathLen = 6.0\n",
      "Episode 2800: average total reward = 0.95 pathLen = 6.35\n",
      "Episode 2900: average total reward = 0.95 pathLen = 6.0\n"
     ]
    }
   ],
   "source": [
    "Q = np.zeros([NUM_STATES, NUM_ACTIONS])\n",
    "\n",
    "pathLenList = []\n",
    "totalRewardList = []\n",
    "totalRewardAverageList = []\n",
    "pathLenAverageList = []\n",
    "\n",
    "\n",
    "for i in range(NUM_EPISODES):\n",
    "#     print (f'eps:{eps}')\n",
    "    \n",
    "    eps = 1.0 - (float(i) / NUM_EPISODES)\n",
    "#     eps = 1\n",
    "\n",
    "    s = env.reset()\n",
    "\n",
    "    totalReward = 0\n",
    "    step = 0\n",
    "\n",
    "    while step < MAX_STEPS:\n",
    "        step += 1\n",
    "        \n",
    "        if np.random.rand() < eps:\n",
    "            a = env.action_space.sample()\n",
    "        else:\n",
    "            \n",
    "            a = np.argmax(Q[s,:])\n",
    "        \n",
    "        s1, r, done, _ = env.step(a)\n",
    "        \n",
    "        if done:\n",
    "            Q_target = r\n",
    "        else:\n",
    "            Q_target = r + gamma * np.max(Q[s1,:])\n",
    "            \n",
    "        Q[s,a] = (1-lr) * Q[s,a] + lr * Q_target\n",
    "        \n",
    "        totalReward += r\n",
    "        s = s1\n",
    "        \n",
    "        if done:\n",
    "            break\n",
    "            \n",
    "    pathLenList.append(step)\n",
    "    totalRewardList.append(totalReward)\n",
    "    \n",
    "    if i % REWARD_AVERAGE_WINDOW == 0 and i >= REWARD_AVERAGE_WINDOW:\n",
    "        totalRewardAverage = np.mean(totalRewardList[-REWARD_AVERAGE_WINDOW:])\n",
    "        totalRewardAverageList.append(totalRewardAverage)\n",
    "        \n",
    "        pathLenAverage = np.mean(pathLenList[-REWARD_AVERAGE_WINDOW:])\n",
    "        pathLenAverageList.append(pathLenAverage)\n",
    "        \n",
    "        if i % 100 == 0:\n",
    "            print('Episode {}: average total reward = {} pathLen = {}'.format(i, totalRewardAverage, pathLenAverage))"
   ]
  },
  {
   "cell_type": "markdown",
   "metadata": {
    "colab_type": "text",
    "id": "sC_phyS5NSlS"
   },
   "source": [
    "## Q-Table"
   ]
  },
  {
   "cell_type": "code",
   "execution_count": 48,
   "metadata": {
    "colab": {
     "base_uri": "https://localhost:8080/",
     "height": 291
    },
    "colab_type": "code",
    "id": "tl1RpcwsNSlT",
    "outputId": "c588121e-2add-4374-8768-dc430b7e7558"
   },
   "outputs": [
    {
     "name": "stdout",
     "output_type": "stream",
     "text": [
      "[[0.73509189 0.77378094 0.77378094 0.73509189]\n",
      " [0.73509189 0.         0.81450625 0.77378094]\n",
      " [0.77378094 0.857375   0.77378094 0.81450625]\n",
      " [0.81450625 0.         0.77378094 0.77378094]\n",
      " [0.77378094 0.81450625 0.         0.73509189]\n",
      " [0.         0.         0.         0.        ]\n",
      " [0.         0.9025     0.         0.81450625]\n",
      " [0.         0.         0.         0.        ]\n",
      " [0.81450625 0.         0.857375   0.77378094]\n",
      " [0.81450625 0.9025     0.9025     0.        ]\n",
      " [0.857375   0.95       0.         0.857375  ]\n",
      " [0.         0.         0.         0.        ]\n",
      " [0.         0.         0.         0.        ]\n",
      " [0.         0.9025     0.95       0.857375  ]\n",
      " [0.9025     0.95       1.         0.9025    ]\n",
      " [0.         0.         0.         0.        ]]\n"
     ]
    }
   ],
   "source": [
    "print(Q)"
   ]
  },
  {
   "cell_type": "markdown",
   "metadata": {
    "colab_type": "text",
    "id": "jbtHr-I_NSlW"
   },
   "source": [
    "## Plot trajectory length over time"
   ]
  },
  {
   "cell_type": "code",
   "execution_count": 49,
   "metadata": {
    "colab": {
     "base_uri": "https://localhost:8080/",
     "height": 269
    },
    "colab_type": "code",
    "id": "g-dR5Qv1NSlW",
    "outputId": "a3a28dba-3b7e-4949-fedd-09e296eacd27"
   },
   "outputs": [
    {
     "data": {
      "image/png": "[encoded data removed]",
      "text/plain": [
       "<Figure size 432x288 with 1 Axes>"
      ]
     },
     "metadata": {
      "needs_background": "light"
     },
     "output_type": "display_data"
    }
   ],
   "source": [
    "plt.plot(pathLenList)\n",
    "plt.grid()\n"
   ]
  },
  {
   "cell_type": "markdown",
   "metadata": {
    "colab_type": "text",
    "id": "Si3hizJSNSlZ"
   },
   "source": [
    "## Plot average total reward over time"
   ]
  },
  {
   "cell_type": "code",
   "execution_count": 50,
   "metadata": {
    "colab": {
     "base_uri": "https://localhost:8080/",
     "height": 269
    },
    "colab_type": "code",
    "id": "UmizhRXNNSla",
    "outputId": "879dfeeb-8f8a-42d3-e14c-624a300eff3c"
   },
   "outputs": [
    {
     "data": {
      "image/png": "[encoded data removed]",
      "text/plain": [
       "<Figure size 432x288 with 1 Axes>"
      ]
     },
     "metadata": {
      "needs_background": "light"
     },
     "output_type": "display_data"
    }
   ],
   "source": [
    "plt.plot(totalRewardAverageList)\n",
    "plt.grid()"
   ]
  },
  {
   "cell_type": "markdown",
   "metadata": {
    "colab_type": "text",
    "id": "rMV-1aSINSld"
   },
   "source": [
    "## Run simulation"
   ]
  },
  {
   "cell_type": "code",
   "execution_count": 55,
   "metadata": {},
   "outputs": [
    {
     "data": {
      "text/plain": [
       "0"
      ]
     },
     "execution_count": 55,
     "metadata": {},
     "output_type": "execute_result"
    }
   ],
   "source": [
    "s"
   ]
  },
  {
   "cell_type": "code",
   "execution_count": 57,
   "metadata": {
    "colab": {
     "base_uri": "https://localhost:8080/",
     "height": 634
    },
    "colab_type": "code",
    "id": "gt3QgxKDNSle",
    "outputId": "bbfeb1ea-77d6-4301-e5ea-d26c9176f8c8",
    "scrolled": false
   },
   "outputs": [
    {
     "name": "stdout",
     "output_type": "stream",
     "text": [
      "\n",
      "\u001b[41mS\u001b[0mFFF\n",
      "FHFH\n",
      "FFFH\n",
      "HFFG\n",
      "4\n",
      "  (Down)\n",
      "SFFF\n",
      "\u001b[41mF\u001b[0mHFH\n",
      "FFFH\n",
      "HFFG\n",
      "8\n",
      "  (Down)\n",
      "SFFF\n",
      "FHFH\n",
      "\u001b[41mF\u001b[0mFFH\n",
      "HFFG\n",
      "9\n",
      "  (Right)\n",
      "SFFF\n",
      "FHFH\n",
      "F\u001b[41mF\u001b[0mFH\n",
      "HFFG\n",
      "13\n",
      "  (Down)\n",
      "SFFF\n",
      "FHFH\n",
      "FFFH\n",
      "H\u001b[41mF\u001b[0mFG\n",
      "14\n",
      "  (Right)\n",
      "SFFF\n",
      "FHFH\n",
      "FFFH\n",
      "HF\u001b[41mF\u001b[0mG\n",
      "15\n",
      "  (Right)\n",
      "SFFF\n",
      "FHFH\n",
      "FFFH\n",
      "HFF\u001b[41mG\u001b[0m\n",
      "Reward = 1.0\n"
     ]
    }
   ],
   "source": [
    "USE_Q = True\n",
    "\n",
    "s = env.reset()\n",
    "\n",
    "for _ in range(1000):\n",
    "    env.render()\n",
    "    if USE_Q:\n",
    "        a = np.argmax(Q[s,:])\n",
    "    else:\n",
    "        a = env.action_space.sample()\n",
    "    s, r, done, _ = env.step(a)\n",
    "    if done:\n",
    "        env.render()\n",
    "        print('Reward = {}'.format(r))\n",
    "        break\n",
    "        \n",
    "env.close()"
   ]
  },
  {
   "cell_type": "code",
   "execution_count": null,
   "metadata": {},
   "outputs": [],
   "source": []
  },
  {
   "cell_type": "code",
   "execution_count": null,
   "metadata": {},
   "outputs": [],
   "source": []
  }
 ],
 "metadata": {
  "accelerator": "GPU",
  "colab": {
   "collapsed_sections": [],
   "name": "q-table-learning.ipynb",
   "provenance": [],
   "version": "0.3.2"
  },
  "kernelspec": {
   "display_name": "Python 3",
   "language": "python",
   "name": "python3"
  },
  "language_info": {
   "codemirror_mode": {
    "name": "ipython",
    "version": 3
   },
   "file_extension": ".py",
   "mimetype": "text/x-python",
   "name": "python",
   "nbconvert_exporter": "python",
   "pygments_lexer": "ipython3",
   "version": "3.7.4"
  }
 },
 "nbformat": 4,
 "nbformat_minor": 1
}
